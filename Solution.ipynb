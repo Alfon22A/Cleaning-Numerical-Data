{
 "cells": [
  {
   "cell_type": "markdown",
   "id": "33f94aaa-6574-455b-ab8b-d25da9879f87",
   "metadata": {},
   "source": [
    "![logo_ironhack_blue 7](https://user-images.githubusercontent.com/23629340/40541063-a07a0a8a-601a-11e8-91b5-2f13e4e6b441.png)\n",
    "\n",
    "# Lab | Cleaning numerical data\n",
    "\n",
    "For this lab, we will be using the dataset in the Customer Analysis Business Case. This dataset can be found in `files_for_lab` folder.\n",
    "\n",
    "## Context\n",
    "\n",
    "An auto insurance company has collected some data about its customers including their _demographics_, _education_, _employment_, _policy details_, _vehicle information_ on which insurance policy is, and _claim amounts_. You will help the senior management with some business questions that will help them to better understand their customers, improve their services, and improve profitability.\n",
    "\n",
    "**Some business Objectives**:\n",
    "\n",
    "- Retain customers,\n",
    "- Analyze relevant customer data,\n",
    "- Develop focused customer retention programs.\n",
    "\n",
    "Based on the analysis, take targeted actions to increase profitable customer response, retention, and growth."
   ]
  },
  {
   "cell_type": "markdown",
   "id": "1d0e933a-a7d9-4a55-b7ba-131d8d9b5f8e",
   "metadata": {},
   "source": [
    "## Instructions\n",
    "\n",
    "### 1. Import the necessary libraries."
   ]
  },
  {
   "cell_type": "code",
   "execution_count": null,
   "id": "2612933c-769f-4aff-8125-d9a0d30db354",
   "metadata": {},
   "outputs": [],
   "source": [
    "import pandas as pd\n",
    "import numpy as np\n",
    "import matplotlib.pyplot as plt\n",
    "%matplotlib inline\n",
    "import seaborn as sns\n",
    "from functions import lowercase_cols"
   ]
  },
  {
   "cell_type": "markdown",
   "id": "0b792b9f-a274-4504-9f54-c2f51a2c9f1d",
   "metadata": {},
   "source": [
    "### 2. Load the we_fn_use_c_marketing_customer_value_analysis.csv into the variable customer_df"
   ]
  },
  {
   "cell_type": "code",
   "execution_count": null,
   "id": "5322b1ff-4202-45d8-9060-1c315fc83afc",
   "metadata": {},
   "outputs": [],
   "source": [
    "customer_df = pd.read_csv(\"files_for_lab/we_fn_use_c_marketing_customer_value_analysis.csv\")"
   ]
  },
  {
   "cell_type": "markdown",
   "id": "b68267d0-551a-46a2-867d-3a90b3e63e8d",
   "metadata": {},
   "source": [
    "### 3. First look at its main features (head, shape, info)."
   ]
  },
  {
   "cell_type": "code",
   "execution_count": null,
   "id": "73ea5dd8-e61b-41c8-8f40-c3ab733e8a21",
   "metadata": {},
   "outputs": [],
   "source": [
    "customer_df.head()"
   ]
  },
  {
   "cell_type": "code",
   "execution_count": null,
   "id": "07ef7fa8-2ab1-421d-b77a-c90e4f82950c",
   "metadata": {},
   "outputs": [],
   "source": [
    "customer_df.shape"
   ]
  },
  {
   "cell_type": "code",
   "execution_count": null,
   "id": "6fb7120d-0689-4390-848d-b0931402770e",
   "metadata": {},
   "outputs": [],
   "source": [
    "customer_df.info()"
   ]
  },
  {
   "cell_type": "markdown",
   "id": "0044d1eb-2d59-4097-b094-f879886d998a",
   "metadata": {},
   "source": [
    "### 4. Rename the columns so they follow the PE8 (snake case) (lower_case_with_underscores)"
   ]
  },
  {
   "cell_type": "code",
   "execution_count": null,
   "id": "c6573da0-2b19-47d0-98d9-3250430719b1",
   "metadata": {},
   "outputs": [],
   "source": [
    "customer_df = lowercase_cols(customer_df)\n",
    "customer_df.columns"
   ]
  },
  {
   "cell_type": "code",
   "execution_count": null,
   "id": "225f5854-88a4-4d11-883a-4ddd94f59ff5",
   "metadata": {},
   "outputs": [],
   "source": [
    "customer_df.rename(columns = {\"employmentstatus\":\"employment_status\"}, inplace = True)\n",
    "customer_df.columns"
   ]
  },
  {
   "cell_type": "markdown",
   "id": "4a0f957b-af4f-409b-b8e8-2574b9e2dc3e",
   "metadata": {},
   "source": [
    "### 5. Change effective to date column to datetime format."
   ]
  },
  {
   "cell_type": "code",
   "execution_count": null,
   "id": "0e75c776-52e6-461f-b66c-e8bbf3f88573",
   "metadata": {},
   "outputs": [],
   "source": [
    "customer_df[\"effective_to_date\"] = pd.to_datetime(customer_df[\"effective_to_date\"])\n",
    "customer_df[\"effective_to_date\"].info()"
   ]
  },
  {
   "cell_type": "markdown",
   "id": "d5600fb8-bcb4-4a2f-84a9-18802cd2a32e",
   "metadata": {
    "tags": []
   },
   "source": [
    "### 6. Define a function that differentiates between continuous and discrete variables.\n",
    "\n",
    "Hint: The number of unique values might be useful. Store continuous data into a continuous_df variable and do the same for discrete_df"
   ]
  },
  {
   "cell_type": "code",
   "execution_count": null,
   "id": "096db46f-aaa1-421f-8911-fc9e0dad3649",
   "metadata": {},
   "outputs": [],
   "source": [
    "# Let's check how many unique values each numeric column has\n",
    "\n",
    "for col in customer_df.select_dtypes(np.number):\n",
    "    print(col, \"-\", customer_df[col].nunique())"
   ]
  },
  {
   "cell_type": "markdown",
   "id": "5981b7ec-e50d-48dc-8baf-31599e6f6dba",
   "metadata": {},
   "source": [
    "Looks like there are 3 pretty clear continuous data columns with more than 5000 different values.\n",
    "\n",
    "We can use this threshold in our function below, but we could set a lower threshold just in case.\n",
    "\n",
    "Or just define an inputable threshold in our function, for example:"
   ]
  },
  {
   "cell_type": "code",
   "execution_count": null,
   "id": "fc220bfe-43ad-434e-805c-80871a453f85",
   "metadata": {},
   "outputs": [],
   "source": [
    "len(customer_df)*0.1"
   ]
  },
  {
   "cell_type": "code",
   "execution_count": null,
   "id": "c7fdb046-2eaa-4587-8005-e5e8bf578454",
   "metadata": {},
   "outputs": [],
   "source": [
    "def continuous_vs_discrete(df, threshold = 0.1):\n",
    "    \n",
    "    df2 = df.select_dtypes(np.number)\n",
    "    df3 = df.select_dtypes(np.number)\n",
    "    \n",
    "    df2 = df2.loc[:,df2.nunique()>=len(df)*threshold]\n",
    "    df3 = df3.loc[:,df3.nunique()<len(df)*threshold]\n",
    "        \n",
    "    return df2, df3\n",
    "\n",
    "customer_continuous, customer_discrete = continuous_vs_discrete(customer_df)              "
   ]
  },
  {
   "cell_type": "code",
   "execution_count": null,
   "id": "083ce039-b27c-4d52-a86a-b30022798c6f",
   "metadata": {},
   "outputs": [],
   "source": [
    "customer_continuous"
   ]
  },
  {
   "cell_type": "code",
   "execution_count": null,
   "id": "6d24db8b-8415-458e-a790-66b7e59fab77",
   "metadata": {},
   "outputs": [],
   "source": [
    "customer_discrete"
   ]
  },
  {
   "cell_type": "markdown",
   "id": "3ebd070f-0b66-4d63-9303-796aa62001c6",
   "metadata": {},
   "source": [
    "### 7. Plot a correlation matrix, comment what you see."
   ]
  },
  {
   "cell_type": "code",
   "execution_count": null,
   "id": "a43e915e-2d18-49eb-a65c-f062c218823a",
   "metadata": {},
   "outputs": [],
   "source": [
    "sns.heatmap(customer_df.corr(), annot = True)"
   ]
  },
  {
   "cell_type": "markdown",
   "id": "27fe810c-a1c3-482b-9212-aae871e5cb83",
   "metadata": {},
   "source": [
    "Overall there is no correlation between columns, only destacable one is a 0.63 correlation betweel columns `monthly_premium_auto` and `total_claim_amount`.\n",
    "\n",
    "There are also 3 more correlation higher than the average, which are:\n",
    "- `customer_lifetime_value` - `monthly_premium auto`\n",
    "- `customer_lifetime_value` - `total_claim_amount`\n",
    "- `income` - `total_claim_amount`"
   ]
  },
  {
   "cell_type": "markdown",
   "id": "30e2d06f-3839-45fb-9ede-f2a0d0d42d13",
   "metadata": {
    "tags": []
   },
   "source": [
    "### 8.1 Create a function to plot every discrete variable."
   ]
  },
  {
   "cell_type": "code",
   "execution_count": null,
   "id": "e1fc0c70-d179-44f5-bcd7-5995d489b8e3",
   "metadata": {},
   "outputs": [],
   "source": [
    "def hist_maker(df):\n",
    "    '''Returns histplots in a single fig for each column of a given DataFrame\n",
    "    \n",
    "    Input: DataFrame\n",
    "    Output: Histplots of all the columns'''\n",
    "    \n",
    "    cols = list(df.columns)\n",
    "    x = len(cols)\n",
    "    fig, ax = plt.subplots(1,x, figsize=(20,10))\n",
    "\n",
    "    for col in cols:\n",
    "        y = cols.index(col)\n",
    "        sns.histplot(data=df, x=col, ax = ax[y])\n",
    "        ax[y].set_title(col)\n",
    "        \n",
    "    return"
   ]
  },
  {
   "cell_type": "code",
   "execution_count": null,
   "id": "e3613d6e-d961-48c3-8cdc-fe80966fba51",
   "metadata": {},
   "outputs": [],
   "source": [
    "hist_maker(customer_discrete)"
   ]
  },
  {
   "cell_type": "markdown",
   "id": "590df0c2-3887-4aeb-ad73-1e84efdaa9f5",
   "metadata": {
    "tags": []
   },
   "source": [
    "### 8.2 Do the same with the continuous variables\n",
    "\n",
    "(Be Careful, you may need to change the plot type to one better suited for continuous data!)"
   ]
  },
  {
   "cell_type": "code",
   "execution_count": null,
   "id": "a5d208e1-c8d8-4354-8971-57ec6a4d7852",
   "metadata": {},
   "outputs": [],
   "source": [
    "hist_maker(customer_continuous)"
   ]
  },
  {
   "cell_type": "code",
   "execution_count": null,
   "id": "62b6bd4e-5946-4f24-ba99-f3d5ef975d96",
   "metadata": {},
   "outputs": [],
   "source": [
    "customer_continuous"
   ]
  },
  {
   "cell_type": "code",
   "execution_count": null,
   "id": "1cda3e5c-5d80-4396-b309-3301bb8046d0",
   "metadata": {},
   "outputs": [],
   "source": [
    "def kdeplot_maker(df):\n",
    "    '''Returns KDEplots in a single fig for each column of a given DataFrame\n",
    "    \n",
    "    Input: DataFrame\n",
    "    Output: KDEplots of all the columns'''\n",
    "\t\n",
    "    cols = list(df.columns)\n",
    "    x = len(cols)\n",
    "    fig, ax = plt.subplots(1,x, figsize=(20,10))\n",
    "    \n",
    "    for col in cols:\n",
    "        y = cols.index(col)\n",
    "        sns.kdeplot(data=df, x=col, ax = ax[y])\n",
    "        ax[y].set_title(col)\n",
    "        \n",
    "    return"
   ]
  },
  {
   "cell_type": "code",
   "execution_count": null,
   "id": "5a96fa0a-b1aa-4a23-8cb3-d85fb3eb9bfc",
   "metadata": {},
   "outputs": [],
   "source": [
    "kdeplot_maker(customer_continuous)"
   ]
  },
  {
   "cell_type": "markdown",
   "id": "86dd6493-cf42-49aa-9c2e-74e981fb98d9",
   "metadata": {},
   "source": [
    "### 9. Comment what you can see in the plots."
   ]
  },
  {
   "cell_type": "markdown",
   "id": "0ed1c831-b7e0-45da-a550-f1042cc2c234",
   "metadata": {},
   "source": [
    "Data appears to be right skewed on both discrete and continuous columns.\n",
    "\n",
    "No outliers in the `income` column.\n",
    "\n",
    "Balanced data in the `months_since_policy_inception`."
   ]
  },
  {
   "cell_type": "markdown",
   "id": "ae8fb907-07ca-4ea2-94e1-c342a0a987d0",
   "metadata": {
    "tags": []
   },
   "source": [
    "### 10. Look for outliers in the continuous variables.\n",
    "\n",
    "(HINT: There’s a good plot to do that!)"
   ]
  },
  {
   "cell_type": "code",
   "execution_count": null,
   "id": "2924b731-883e-411f-a95d-0961358da153",
   "metadata": {},
   "outputs": [],
   "source": [
    "def box_maker(df):\n",
    "    '''Returns boxplots in a single fig for each column of a given DataFrame\n",
    "    \n",
    "    Input: DataFrame\n",
    "    Output: Boxplot of all the columns'''\n",
    "\t\n",
    "    cols = list(df.columns)\n",
    "    x = len(cols)\n",
    "    fig, ax = plt.subplots(1,x, figsize=(20,10))\n",
    "    \n",
    "    for col in cols:\n",
    "        y = cols.index(col)\n",
    "        sns.boxplot(data=df, y=col, ax = ax[y])\n",
    "        ax[y].set_title(col)\n",
    "        \n",
    "    return\n",
    "\n",
    "box_maker(customer_continuous)"
   ]
  },
  {
   "cell_type": "markdown",
   "id": "5970afca-f969-4904-bde0-33931de30279",
   "metadata": {},
   "source": [
    "### 11. Did you find outliers?  Comment what you will do with them."
   ]
  },
  {
   "cell_type": "markdown",
   "id": "faa78bd3-4c1c-4cdd-9fee-b91933b47017",
   "metadata": {},
   "source": [
    "There are outliers in both the `customer_lifetime_value` and `total_claim¨_amount`\n",
    "\n",
    "We can drop them using the iqr."
   ]
  },
  {
   "cell_type": "code",
   "execution_count": null,
   "id": "2787db6e-7361-421e-b7bb-3107d6bea9ae",
   "metadata": {},
   "outputs": [],
   "source": [
    "iqr_clv = np.nanpercentile(customer_continuous[\"customer_lifetime_value\"], 75) - np.nanpercentile(customer_continuous[\"customer_lifetime_value\"], 25)\n",
    "upper_limit_clv = np.nanpercentile(customer_continuous[\"customer_lifetime_value\"], 75) + (1.5 * iqr_clv)\n",
    "print(upper_limit_clv)\n",
    "\n",
    "len(customer_continuous[customer_continuous[\"customer_lifetime_value\"] > upper_limit_clv])"
   ]
  },
  {
   "cell_type": "code",
   "execution_count": null,
   "id": "025b0054-c6e4-4e7a-8ecd-28c99949a9e6",
   "metadata": {},
   "outputs": [],
   "source": [
    "iqr_tca = np.nanpercentile(customer_continuous[\"total_claim_amount\"], 75) - np.nanpercentile(customer_continuous[\"total_claim_amount\"], 25)\n",
    "upper_limit_tca = np.nanpercentile(customer_continuous[\"total_claim_amount\"], 75) + (1.5 * iqr_tca)\n",
    "print(upper_limit_tca)\n",
    "\n",
    "len(customer_continuous[customer_continuous[\"total_claim_amount\"] > upper_limit_tca])"
   ]
  },
  {
   "cell_type": "code",
   "execution_count": null,
   "id": "3d1979ab-d009-4670-a644-6e51edc2b2da",
   "metadata": {},
   "outputs": [],
   "source": [
    "customer_df = customer_df[customer_df[\"customer_lifetime_value\"] < upper_limit_clv]\n",
    "customer_df = customer_df[customer_df[\"total_claim_amount\"] < upper_limit_tca]\n",
    "\n",
    "customer_df"
   ]
  },
  {
   "cell_type": "markdown",
   "id": "649468a6-2e2b-4734-9a20-12b536a528d7",
   "metadata": {
    "tags": []
   },
   "source": [
    "### 12. Check all columns for NaN values.\n",
    "\n",
    "Decide what (if anything) you will need to do with them."
   ]
  },
  {
   "cell_type": "code",
   "execution_count": null,
   "id": "ead9b0b1-cfb0-4bb9-8ead-4fefcf922f2d",
   "metadata": {},
   "outputs": [],
   "source": [
    "customer_df.isna().sum()"
   ]
  },
  {
   "cell_type": "markdown",
   "id": "12d14197-8682-4e6d-96d8-4cd9128df3d3",
   "metadata": {},
   "source": [
    "There are no NAs."
   ]
  },
  {
   "cell_type": "code",
   "execution_count": null,
   "id": "6aa1f2b1-e3ad-4e87-a20e-ce65d758784e",
   "metadata": {},
   "outputs": [],
   "source": [
    "customer_df.to_csv(\"customer.csv\")"
   ]
  }
 ],
 "metadata": {
  "kernelspec": {
   "display_name": "Python 3 (ipykernel)",
   "language": "python",
   "name": "python3"
  },
  "language_info": {
   "codemirror_mode": {
    "name": "ipython",
    "version": 3
   },
   "file_extension": ".py",
   "mimetype": "text/x-python",
   "name": "python",
   "nbconvert_exporter": "python",
   "pygments_lexer": "ipython3",
   "version": "3.9.12"
  }
 },
 "nbformat": 4,
 "nbformat_minor": 5
}
